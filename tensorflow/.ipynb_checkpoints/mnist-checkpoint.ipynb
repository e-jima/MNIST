{
 "cells": [
  {
   "cell_type": "markdown",
   "metadata": {},
   "source": [
    "# tensorflow で MNIST"
   ]
  },
  {
   "cell_type": "code",
   "execution_count": 1,
   "metadata": {
    "collapsed": true
   },
   "outputs": [],
   "source": [
    "from tensorflow.examples.tutorials.mnist import input_data\n",
    "import tensorflow as tf"
   ]
  },
  {
   "cell_type": "code",
   "execution_count": 4,
   "metadata": {
    "scrolled": true
   },
   "outputs": [
    {
     "name": "stdout",
     "output_type": "stream",
     "text": [
      "Extracting ./data/train-images-idx3-ubyte.gz\n",
      "Extracting ./data/train-labels-idx1-ubyte.gz\n",
      "Extracting ./data/t10k-images-idx3-ubyte.gz\n",
      "Extracting ./data/t10k-labels-idx1-ubyte.gz\n"
     ]
    }
   ],
   "source": [
    "# データロード\n",
    "mnist = input_data.read_data_sets(\"./data/\", one_hot=True)"
   ]
  },
  {
   "cell_type": "code",
   "execution_count": 6,
   "metadata": {},
   "outputs": [],
   "source": [
    "sess = tf.InteractiveSession()"
   ]
  },
  {
   "cell_type": "code",
   "execution_count": 12,
   "metadata": {},
   "outputs": [],
   "source": [
    "# モデル\n",
    "x = tf.placeholder(tf.float32, [None, 784])\n",
    "W = tf.Variable(tf.zeros([784, 10]))\n",
    "b = tf.Variable(tf.zeros([10]))\n",
    "y = tf.nn.softmax(tf.matmul(x, W) + b)\n",
    "\n",
    "# 損失と最適化\n",
    "y_ = tf.placeholder(tf.float32, [None, 10])\n",
    "cross_entropy = -tf.reduce_sum(y_ * tf.log(y))\n",
    "train_step = tf.train.GradientDescentOptimizer(0.01).minimize(cross_entropy)"
   ]
  },
  {
   "cell_type": "code",
   "execution_count": 25,
   "metadata": {},
   "outputs": [
    {
     "name": "stdout",
     "output_type": "stream",
     "text": [
      "step:  0 accuracy = 0.1918\n",
      "step:  1 accuracy = 0.4463\n",
      "step:  2 accuracy = 0.3426\n",
      "step:  3 accuracy = 0.4621\n",
      "step:  4 accuracy = 0.5252\n",
      "step:  5 accuracy = 0.4947\n",
      "step:  6 accuracy = 0.6315\n",
      "step:  7 accuracy = 0.5803\n",
      "step:  8 accuracy = 0.6748\n",
      "step:  9 accuracy = 0.6914\n",
      "step:  10 accuracy = 0.6949\n",
      "step:  11 accuracy = 0.7339\n",
      "step:  12 accuracy = 0.703\n",
      "step:  13 accuracy = 0.7554\n",
      "step:  14 accuracy = 0.6303\n",
      "step:  15 accuracy = 0.7354\n",
      "step:  16 accuracy = 0.7621\n",
      "step:  17 accuracy = 0.8232\n",
      "step:  18 accuracy = 0.8349\n",
      "step:  19 accuracy = 0.8458\n",
      "step:  20 accuracy = 0.8551\n",
      "step:  21 accuracy = 0.8549\n",
      "step:  22 accuracy = 0.8319\n",
      "step:  23 accuracy = 0.8305\n",
      "step:  24 accuracy = 0.8508\n",
      "step:  25 accuracy = 0.8073\n",
      "step:  26 accuracy = 0.8009\n",
      "step:  27 accuracy = 0.8596\n",
      "step:  28 accuracy = 0.7785\n",
      "step:  29 accuracy = 0.7532\n",
      "step:  30 accuracy = 0.8197\n",
      "step:  31 accuracy = 0.8251\n",
      "step:  32 accuracy = 0.8686\n",
      "step:  33 accuracy = 0.8588\n",
      "step:  34 accuracy = 0.8596\n",
      "step:  35 accuracy = 0.8324\n",
      "step:  36 accuracy = 0.7451\n",
      "step:  37 accuracy = 0.7658\n",
      "step:  38 accuracy = 0.8686\n",
      "step:  39 accuracy = 0.8591\n",
      "step:  40 accuracy = 0.8588\n",
      "step:  41 accuracy = 0.8534\n",
      "step:  42 accuracy = 0.8745\n",
      "step:  43 accuracy = 0.8435\n",
      "step:  44 accuracy = 0.8738\n",
      "step:  45 accuracy = 0.8605\n",
      "step:  46 accuracy = 0.8555\n",
      "step:  47 accuracy = 0.8486\n",
      "step:  48 accuracy = 0.8524\n",
      "step:  49 accuracy = 0.8764\n",
      "step:  50 accuracy = 0.8567\n",
      "step:  51 accuracy = 0.8684\n",
      "step:  52 accuracy = 0.8557\n",
      "step:  53 accuracy = 0.8805\n",
      "step:  54 accuracy = 0.8802\n",
      "step:  55 accuracy = 0.8648\n",
      "step:  56 accuracy = 0.8875\n",
      "step:  57 accuracy = 0.8805\n",
      "step:  58 accuracy = 0.8785\n",
      "step:  59 accuracy = 0.8768\n",
      "step:  60 accuracy = 0.8832\n",
      "step:  61 accuracy = 0.8835\n",
      "step:  62 accuracy = 0.8889\n",
      "step:  63 accuracy = 0.8888\n",
      "step:  64 accuracy = 0.8832\n",
      "step:  65 accuracy = 0.8853\n",
      "step:  66 accuracy = 0.8926\n",
      "step:  67 accuracy = 0.891\n",
      "step:  68 accuracy = 0.8735\n",
      "step:  69 accuracy = 0.8848\n",
      "step:  70 accuracy = 0.8697\n",
      "step:  71 accuracy = 0.8982\n",
      "step:  72 accuracy = 0.8849\n",
      "step:  73 accuracy = 0.8866\n",
      "step:  74 accuracy = 0.8857\n",
      "step:  75 accuracy = 0.8704\n",
      "step:  76 accuracy = 0.8899\n",
      "step:  77 accuracy = 0.8922\n",
      "step:  78 accuracy = 0.8912\n",
      "step:  79 accuracy = 0.8951\n",
      "step:  80 accuracy = 0.8764\n",
      "step:  81 accuracy = 0.8491\n",
      "step:  82 accuracy = 0.8432\n",
      "step:  83 accuracy = 0.8855\n",
      "step:  84 accuracy = 0.8882\n",
      "step:  85 accuracy = 0.8835\n",
      "step:  86 accuracy = 0.8982\n",
      "step:  87 accuracy = 0.8893\n",
      "step:  88 accuracy = 0.8986\n",
      "step:  89 accuracy = 0.8879\n",
      "step:  90 accuracy = 0.8762\n",
      "step:  91 accuracy = 0.8899\n",
      "step:  92 accuracy = 0.8812\n",
      "step:  93 accuracy = 0.8542\n",
      "step:  94 accuracy = 0.845\n",
      "step:  95 accuracy = 0.8828\n",
      "step:  96 accuracy = 0.8928\n",
      "step:  97 accuracy = 0.8955\n",
      "step:  98 accuracy = 0.8847\n",
      "step:  99 accuracy = 0.8443\n"
     ]
    }
   ],
   "source": [
    "# 学習\n",
    "tf.initialize_all_variables().run()\n",
    "\n",
    "#  100 epoch? step?\n",
    "for i in range(100):\n",
    "    # バッチサイズは 100\n",
    "    batch_xs, batch_ys = mnist.train.next_batch(100)\n",
    "    train_step.run({x: batch_xs, y_: batch_ys})\n",
    "    \n",
    "    correct_prediction = tf.equal(tf.argmax(y, 1), tf.argmax(y_, 1))\n",
    "    accuracy = tf.reduce_mean(tf.cast(correct_prediction, tf.float32))\n",
    "    print(\"step: \", i, \"accuracy =\", accuracy.eval({x: mnist.test.images, y_: mnist.test.labels}))"
   ]
  }
 ],
 "metadata": {
  "kernelspec": {
   "display_name": "Python 3",
   "language": "python",
   "name": "python3"
  },
  "language_info": {
   "codemirror_mode": {
    "name": "ipython",
    "version": 3
   },
   "file_extension": ".py",
   "mimetype": "text/x-python",
   "name": "python",
   "nbconvert_exporter": "python",
   "pygments_lexer": "ipython3",
   "version": "3.6.2"
  }
 },
 "nbformat": 4,
 "nbformat_minor": 2
}
