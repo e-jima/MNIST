{
 "cells": [
  {
   "cell_type": "markdown",
   "metadata": {},
   "source": [
    "# keras で MNIST チュートリアル"
   ]
  },
  {
   "cell_type": "code",
   "execution_count": 2,
   "metadata": {
    "collapsed": true
   },
   "outputs": [],
   "source": [
    "from keras.datasets import mnist\n",
    "from keras.models import Sequential\n",
    "from keras.layers.core import Dense, Activation\n",
    "from keras.utils import np_utils\n",
    "import numpy as np\n",
    "import matplotlib.pyplot as plt\n",
    "%matplotlib inline"
   ]
  },
  {
   "cell_type": "code",
   "execution_count": 3,
   "metadata": {},
   "outputs": [
    {
     "name": "stdout",
     "output_type": "stream",
     "text": [
      "60000\n",
      "10000\n",
      "(60000, 28, 28)\n",
      "[[  0   0   0   0   0   0   0   0   0   0   0   0   0   0   0   0   0   0\n",
      "    0   0   0   0   0   0   0   0   0   0]\n",
      " [  0   0   0   0   0   0   0   0   0   0   0   0   0   0   0   0   0   0\n",
      "    0   0   0   0   0   0   0   0   0   0]\n",
      " [  0   0   0   0   0   0   0   0   0   0   0   0   0   0   0   0   0   0\n",
      "    0   0   0   0   0   0   0   0   0   0]\n",
      " [  0   0   0   0   0   0   0   0   0   0   0   0   0   0   0   0   0   0\n",
      "    0   0   0   0   0   0   0   0   0   0]\n",
      " [  0   0   0   0   0   0   0   0   0   0   0   0   0   0   0   0   0   0\n",
      "    0   0   0   0   0   0   0   0   0   0]\n",
      " [  0   0   0   0   0   0   0   0   0   0   0   0   3  18  18  18 126 136\n",
      "  175  26 166 255 247 127   0   0   0   0]\n",
      " [  0   0   0   0   0   0   0   0  30  36  94 154 170 253 253 253 253 253\n",
      "  225 172 253 242 195  64   0   0   0   0]\n",
      " [  0   0   0   0   0   0   0  49 238 253 253 253 253 253 253 253 253 251\n",
      "   93  82  82  56  39   0   0   0   0   0]\n",
      " [  0   0   0   0   0   0   0  18 219 253 253 253 253 253 198 182 247 241\n",
      "    0   0   0   0   0   0   0   0   0   0]\n",
      " [  0   0   0   0   0   0   0   0  80 156 107 253 253 205  11   0  43 154\n",
      "    0   0   0   0   0   0   0   0   0   0]\n",
      " [  0   0   0   0   0   0   0   0   0  14   1 154 253  90   0   0   0   0\n",
      "    0   0   0   0   0   0   0   0   0   0]\n",
      " [  0   0   0   0   0   0   0   0   0   0   0 139 253 190   2   0   0   0\n",
      "    0   0   0   0   0   0   0   0   0   0]\n",
      " [  0   0   0   0   0   0   0   0   0   0   0  11 190 253  70   0   0   0\n",
      "    0   0   0   0   0   0   0   0   0   0]\n",
      " [  0   0   0   0   0   0   0   0   0   0   0   0  35 241 225 160 108   1\n",
      "    0   0   0   0   0   0   0   0   0   0]\n",
      " [  0   0   0   0   0   0   0   0   0   0   0   0   0  81 240 253 253 119\n",
      "   25   0   0   0   0   0   0   0   0   0]\n",
      " [  0   0   0   0   0   0   0   0   0   0   0   0   0   0  45 186 253 253\n",
      "  150  27   0   0   0   0   0   0   0   0]\n",
      " [  0   0   0   0   0   0   0   0   0   0   0   0   0   0   0  16  93 252\n",
      "  253 187   0   0   0   0   0   0   0   0]\n",
      " [  0   0   0   0   0   0   0   0   0   0   0   0   0   0   0   0   0 249\n",
      "  253 249  64   0   0   0   0   0   0   0]\n",
      " [  0   0   0   0   0   0   0   0   0   0   0   0   0   0  46 130 183 253\n",
      "  253 207   2   0   0   0   0   0   0   0]\n",
      " [  0   0   0   0   0   0   0   0   0   0   0   0  39 148 229 253 253 253\n",
      "  250 182   0   0   0   0   0   0   0   0]\n",
      " [  0   0   0   0   0   0   0   0   0   0  24 114 221 253 253 253 253 201\n",
      "   78   0   0   0   0   0   0   0   0   0]\n",
      " [  0   0   0   0   0   0   0   0  23  66 213 253 253 253 253 198  81   2\n",
      "    0   0   0   0   0   0   0   0   0   0]\n",
      " [  0   0   0   0   0   0  18 171 219 253 253 253 253 195  80   9   0   0\n",
      "    0   0   0   0   0   0   0   0   0   0]\n",
      " [  0   0   0   0  55 172 226 253 253 253 253 244 133  11   0   0   0   0\n",
      "    0   0   0   0   0   0   0   0   0   0]\n",
      " [  0   0   0   0 136 253 253 253 212 135 132  16   0   0   0   0   0   0\n",
      "    0   0   0   0   0   0   0   0   0   0]\n",
      " [  0   0   0   0   0   0   0   0   0   0   0   0   0   0   0   0   0   0\n",
      "    0   0   0   0   0   0   0   0   0   0]\n",
      " [  0   0   0   0   0   0   0   0   0   0   0   0   0   0   0   0   0   0\n",
      "    0   0   0   0   0   0   0   0   0   0]\n",
      " [  0   0   0   0   0   0   0   0   0   0   0   0   0   0   0   0   0   0\n",
      "    0   0   0   0   0   0   0   0   0   0]]\n"
     ]
    }
   ],
   "source": [
    "(X_train, y_train), (X_test, y_test) = mnist.load_data()\n",
    "\n",
    "print(len(X_train))\n",
    "print(len(X_test))\n",
    "\n",
    "print(X_train.shape)\n",
    "print(X_train[0])"
   ]
  },
  {
   "cell_type": "code",
   "execution_count": 4,
   "metadata": {
    "collapsed": true
   },
   "outputs": [],
   "source": [
    "# 配列を [28, 28] から [28*28, 1] に変換、色の範囲を 0-255 から 0-1 に変換\n",
    "X_train = X_train.reshape(len(X_train), 28**2) / 255\n",
    "X_test = X_test.reshape(len(X_test), 28**2) / 255"
   ]
  },
  {
   "cell_type": "code",
   "execution_count": 5,
   "metadata": {},
   "outputs": [
    {
     "name": "stdout",
     "output_type": "stream",
     "text": [
      "(60000, 10)\n",
      "[0. 0. 0. 0. 0. 1. 0. 0. 0. 0.]\n"
     ]
    }
   ],
   "source": [
    "# 正解ラベルをダミー変数に変換\n",
    "# それぞれの要素をone-hot vector にしてる\n",
    "y_train = np_utils.to_categorical(y_train)\n",
    "y_test = np_utils.to_categorical(y_test)\n",
    "\n",
    "print(y_train.shape)\n",
    "print(y_train[0])"
   ]
  },
  {
   "cell_type": "code",
   "execution_count": 6,
   "metadata": {
    "collapsed": true
   },
   "outputs": [],
   "source": [
    "# ニューラルネットワークの定義\n",
    "\n",
    "def mnist_nn():\n",
    "    \n",
    "    model = Sequential()\n",
    "    \n",
    "    model.add(Dense(512, input_shape=(28**2, )))\n",
    "    model.add(Activation('sigmoid'))\n",
    "    model.add(Dense(10))\n",
    "    model.add(Activation('softmax'))\n",
    "    \n",
    "    return model"
   ]
  },
  {
   "cell_type": "code",
   "execution_count": 7,
   "metadata": {},
   "outputs": [
    {
     "name": "stdout",
     "output_type": "stream",
     "text": [
      "_________________________________________________________________\n",
      "Layer (type)                 Output Shape              Param #   \n",
      "=================================================================\n",
      "dense_1 (Dense)              (None, 512)               401920    \n",
      "_________________________________________________________________\n",
      "activation_1 (Activation)    (None, 512)               0         \n",
      "_________________________________________________________________\n",
      "dense_2 (Dense)              (None, 10)                5130      \n",
      "_________________________________________________________________\n",
      "activation_2 (Activation)    (None, 10)                0         \n",
      "=================================================================\n",
      "Total params: 407,050\n",
      "Trainable params: 407,050\n",
      "Non-trainable params: 0\n",
      "_________________________________________________________________\n"
     ]
    }
   ],
   "source": [
    "# 損失関数、最適化アルゴリズムの設定 + モデルのコンパイル\n",
    "model = mnist_nn()\n",
    "model.compile(loss='categorical_crossentropy', optimizer='sgd', metrics=['accuracy'])\n",
    "\n",
    "model.summary()"
   ]
  },
  {
   "cell_type": "code",
   "execution_count": 8,
   "metadata": {},
   "outputs": [
    {
     "name": "stdout",
     "output_type": "stream",
     "text": [
      "Train on 54000 samples, validate on 6000 samples\n",
      "Epoch 1/15\n",
      "54000/54000 [==============================] - 4s 77us/step - loss: 2.0869 - acc: 0.4587 - val_loss: 1.8635 - val_acc: 0.7202\n",
      "Epoch 2/15\n",
      "54000/54000 [==============================] - 4s 71us/step - loss: 1.7070 - acc: 0.7035 - val_loss: 1.5102 - val_acc: 0.7885\n",
      "Epoch 3/15\n",
      "54000/54000 [==============================] - 4s 74us/step - loss: 1.4063 - acc: 0.7605 - val_loss: 1.2324 - val_acc: 0.8208\n",
      "Epoch 4/15\n",
      "54000/54000 [==============================] - ETA: 0s - loss: 1.1792 - acc: 0.789 - 3s 53us/step - loss: 1.1784 - acc: 0.7898 - val_loss: 1.0291 - val_acc: 0.8422\n",
      "Epoch 5/15\n",
      "54000/54000 [==============================] - 3s 56us/step - loss: 1.0125 - acc: 0.8116 - val_loss: 0.8819 - val_acc: 0.8572\n",
      "Epoch 6/15\n",
      "54000/54000 [==============================] - 4s 66us/step - loss: 0.8927 - acc: 0.8232 - val_loss: 0.7751 - val_acc: 0.8697\n",
      "Epoch 7/15\n",
      "54000/54000 [==============================] - 4s 69us/step - loss: 0.8040 - acc: 0.8343 - val_loss: 0.6960 - val_acc: 0.8765\n",
      "Epoch 8/15\n",
      "54000/54000 [==============================] - 5s 94us/step - loss: 0.7368 - acc: 0.8426 - val_loss: 0.6356 - val_acc: 0.8823\n",
      "Epoch 9/15\n",
      "54000/54000 [==============================] - 5s 100us/step - loss: 0.6850 - acc: 0.8481 - val_loss: 0.5878 - val_acc: 0.8822\n",
      "Epoch 10/15\n",
      "54000/54000 [==============================] - 5s 101us/step - loss: 0.6434 - acc: 0.8536 - val_loss: 0.5494 - val_acc: 0.8873\n",
      "Epoch 11/15\n",
      "54000/54000 [==============================] - 6s 102us/step - loss: 0.6095 - acc: 0.8585 - val_loss: 0.5180 - val_acc: 0.8922\n",
      "Epoch 12/15\n",
      "54000/54000 [==============================] - 4s 67us/step - loss: 0.5815 - acc: 0.8621 - val_loss: 0.4925 - val_acc: 0.8940\n",
      "Epoch 13/15\n",
      "54000/54000 [==============================] - 4s 71us/step - loss: 0.5578 - acc: 0.8651 - val_loss: 0.4709 - val_acc: 0.8972\n",
      "Epoch 14/15\n",
      "54000/54000 [==============================] - 4s 69us/step - loss: 0.5376 - acc: 0.8679 - val_loss: 0.4521 - val_acc: 0.8982\n",
      "Epoch 15/15\n",
      "54000/54000 [==============================] - 4s 72us/step - loss: 0.5201 - acc: 0.8705 - val_loss: 0.4358 - val_acc: 0.8985\n"
     ]
    }
   ],
   "source": [
    "# 学習\n",
    "# 学習過程が変数に格納される\n",
    "hist = model.fit(X_train, y_train, batch_size=200, verbose=1, epochs=15, validation_split=0.1)"
   ]
  },
  {
   "cell_type": "code",
   "execution_count": 9,
   "metadata": {},
   "outputs": [
    {
     "name": "stdout",
     "output_type": "stream",
     "text": [
      "10000/10000 [==============================] - 1s 101us/step\n",
      "accuracy =  0.8825\n"
     ]
    }
   ],
   "source": [
    "# 予測\n",
    "score = model.evaluate(X_test, y_test, verbose=1)\n",
    "print(\"accuracy = \", score[1])"
   ]
  },
  {
   "cell_type": "code",
   "execution_count": 10,
   "metadata": {},
   "outputs": [
    {
     "data": {
      "text/plain": [
       "[<matplotlib.lines.Line2D at 0x183dfc8630>]"
      ]
     },
     "execution_count": 10,
     "metadata": {},
     "output_type": "execute_result"
    },
    {
     "data": {
      "image/png": "[encoded data removed]",
      "text/plain": [
       "<matplotlib.figure.Figure at 0x183dfc6f28>"
      ]
     },
     "metadata": {},
     "output_type": "display_data"
    }
   ],
   "source": [
    "# 学習の様子を見てみる\n",
    "# 訓練データの損失\n",
    "loss = hist.history['loss']\n",
    "# バリデーションデータの損失\n",
    "val_loss = hist.history['val_loss']\n",
    "\n",
    "plt.figure()\n",
    "plt.plot(loss)\n",
    "plt.plot(val_loss)"
   ]
  }
 ],
 "metadata": {
  "kernelspec": {
   "display_name": "Python 3",
   "language": "python",
   "name": "python3"
  },
  "language_info": {
   "codemirror_mode": {
    "name": "ipython",
    "version": 3
   },
   "file_extension": ".py",
   "mimetype": "text/x-python",
   "name": "python",
   "nbconvert_exporter": "python",
   "pygments_lexer": "ipython3",
   "version": "3.6.2"
  }
 },
 "nbformat": 4,
 "nbformat_minor": 2
}
